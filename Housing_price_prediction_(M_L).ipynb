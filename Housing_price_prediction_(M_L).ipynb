{
  "nbformat": 4,
  "nbformat_minor": 0,
  "metadata": {
    "colab": {
      "name": "Housing price prediction (M.L).ipynb",
      "provenance": [],
      "collapsed_sections": [],
      "authorship_tag": "ABX9TyM+h05KIBZMkcUIhbqaXMHP"
    },
    "kernelspec": {
      "name": "python3",
      "display_name": "Python 3"
    }
  },
  "cells": [
    {
      "cell_type": "code",
      "metadata": {
        "id": "xMdod_Q2bY6X"
      },
      "source": [
        "import pandas as pd\r\n",
        "file_url = ('https://raw.githubusercontent.com/niked/M.L-house-price-predection/main/melb_data.csv')\r\n",
        "home_data = pd.read_csv(file_url)\r\n",
        "print(home_data)"
      ],
      "execution_count": null,
      "outputs": []
    },
    {
      "cell_type": "markdown",
      "metadata": {
        "id": "8gkX8c67eVKI"
      },
      "source": [
        "# Setting up prediction Target\r\n",
        "here we are using sales price as our prediction target!\r\n",
        "\r\n",
        "\r\n",
        "\r\n",
        "\r\n"
      ]
    },
    {
      "cell_type": "code",
      "metadata": {
        "id": "e-mzEW8DbdQJ"
      },
      "source": [
        "#Rename 'column_name with your sales price in your data set!\r\n",
        "y = home_data#column_name\r\n",
        "\r\n",
        "#now we are going to use few parameters for our prediction to be precises we are going to inherit leaf branches for prediction\r\n",
        "parameter1 = input(\"Enter your 1st parameter\")\r\n",
        "parameter2 = input(\"Enter your 2nd parameter\")\r\n",
        "parameter3 = input(\"Enter your 3rd parameter\")\r\n",
        "parameter4 = input(\"Enter your 4th parameter\")\r\n",
        "parameters = [\r\n",
        "    parameter1,\r\n",
        "    parameter2,\r\n",
        "    parameter3,\r\n",
        "    parameter4,\r\n",
        "    #If you want to add more parameter add here\r\n",
        "]\r\n",
        "\r\n",
        "#let's save the parameters into a data set indeed into a variable\r\n",
        "\r\n",
        "X = home_data[parameters]"
      ],
      "execution_count": null,
      "outputs": []
    },
    {
      "cell_type": "markdown",
      "metadata": {
        "id": "Cy6-FxaIgOuc"
      },
      "source": [
        "# Data validation or data checking\r\n",
        "It's good practice to verify the dataset before execustion, Indeed every data scientist must follow this step."
      ]
    },
    {
      "cell_type": "code",
      "metadata": {
        "id": "nmydOcbDgNWZ"
      },
      "source": [
        "#print description or statistics from X\r\n",
        "print(X.describe()) \r\n",
        "\r\n",
        "#checking out top few lines\r\n",
        "print(X.head())"
      ],
      "execution_count": null,
      "outputs": []
    },
    {
      "cell_type": "markdown",
      "metadata": {
        "id": "iVVXPvpYhtHN"
      },
      "source": [
        "# Specify and fit model\r\n",
        "Specify and Fit Model\r\n",
        "Create a `DecisionTreeRegressor` and save it iowa_model. Ensure you've done the relevant import from sklearn to run this command.\r\n",
        "\r\n",
        "Then fit the model you just created using the data in `X` and `y` that you saved above. "
      ]
    },
    {
      "cell_type": "code",
      "metadata": {
        "id": "G9RnMo29Wf51"
      },
      "source": [
        "from sklearn.tree import DecisionTreeRegressor\r\n",
        "\r\n",
        "#fit the model\r\n",
        "model = DecisionTreeRegressor(random_state=1)\r\n",
        "\r\n",
        "model.fit(X,y)"
      ],
      "execution_count": null,
      "outputs": []
    },
    {
      "cell_type": "markdown",
      "metadata": {
        "id": "K8CMMOUpXiHK"
      },
      "source": [
        "# Predictions \r\n",
        "here the datasets are taken and a predictions are saved to a variable called prediction\r\n"
      ]
    },
    {
      "cell_type": "code",
      "metadata": {
        "id": "ioZ3twq5YZfN"
      },
      "source": [
        "predictions = model.predict(X)\r\n",
        "#here is your output\r\n",
        "print(predictions)\r\n",
        "\r\n",
        "#Output recived is the prediction based on parmeters vs prices To your data set in the form of ID's"
      ],
      "execution_count": null,
      "outputs": []
    },
    {
      "cell_type": "code",
      "metadata": {
        "id": "V_QadBFT8MU-"
      },
      "source": [
        ""
      ],
      "execution_count": null,
      "outputs": []
    }
  ]
}